{
 "cells": [
  {
   "cell_type": "code",
   "execution_count": 6,
   "metadata": {},
   "outputs": [
    {
     "name": "stdout",
     "output_type": "stream",
     "text": [
      "圓 - 半徑: 10.0, 面積: 314.159\n"
     ]
    }
   ],
   "source": [
    "import math\n",
    "\n",
    "radius = float(input(\"請輸入半徑: \"))    # get inupu and convert to float type\n",
    "area = round(math.pi * (radius ** 2), 3)    # use round() to reduce the fraction\n",
    "print(f\"圓 - 半徑: {radius}, 面積: {area}\")  # add 'f' for simply print format"
   ]
  },
  {
   "cell_type": "code",
   "execution_count": 3,
   "metadata": {},
   "outputs": [
    {
     "name": "stdout",
     "output_type": "stream",
     "text": [
      "三角形 - 對邊: 25, 斜邊: 50, 徑度: 0.52, 角度: 30.0\n"
     ]
    }
   ],
   "source": [
    "import math\n",
    "\n",
    "side_a = 25     # opposite side of edge\n",
    "side_c = 50     # long side\n",
    "radian = math.asin(side_a/side_c)   # Caculate the radian, 在這裡做四捨五入可能造成轉換為 degree 時的誤差\n",
    "degree = math.degrees(radian) # Convert radian to degree\n",
    "print(f\"三角形 - 對邊: {side_a}, 斜邊: {side_c}, 徑度: {round(radian, 2)}, 角度: {round(degree, 2)}\");"
   ]
  }
 ],
 "metadata": {
  "kernelspec": {
   "display_name": "Python 3",
   "language": "python",
   "name": "python3"
  },
  "language_info": {
   "codemirror_mode": {
    "name": "ipython",
    "version": 3
   },
   "file_extension": ".py",
   "mimetype": "text/x-python",
   "name": "python",
   "nbconvert_exporter": "python",
   "pygments_lexer": "ipython3",
   "version": "3.10.14"
  }
 },
 "nbformat": 4,
 "nbformat_minor": 2
}
