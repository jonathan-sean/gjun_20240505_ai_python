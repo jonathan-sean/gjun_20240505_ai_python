{
 "cells": [
  {
   "cell_type": "code",
   "execution_count": 3,
   "metadata": {},
   "outputs": [
    {
     "name": "stdout",
     "output_type": "stream",
     "text": [
      "Hello, Python!\n"
     ]
    }
   ],
   "source": [
    "print(\"Hello, Python!\")"
   ]
  },
  {
   "cell_type": "code",
   "execution_count": 1,
   "metadata": {},
   "outputs": [
    {
     "name": "stdout",
     "output_type": "stream",
     "text": [
      "圓面積 - 半徑: 10, 面積: 314.16\n"
     ]
    }
   ],
   "source": [
    "import math\n",
    "# 圓面積 = pi * r^2, pi: 圓周率, r: 半徑\n",
    "r=10\n",
    "#pi=3.14159\n",
    "a=round((math.pi * r**2), 2)\n",
    "print(str.format(\"圓面積 - 半徑: {}, 面積: {}\", r, a))"
   ]
  }
 ],
 "metadata": {
  "kernelspec": {
   "display_name": "Python 3",
   "language": "python",
   "name": "python3"
  },
  "language_info": {
   "codemirror_mode": {
    "name": "ipython",
    "version": 3
   },
   "file_extension": ".py",
   "mimetype": "text/x-python",
   "name": "python",
   "nbconvert_exporter": "python",
   "pygments_lexer": "ipython3",
   "version": "3.10.14"
  }
 },
 "nbformat": 4,
 "nbformat_minor": 2
}
