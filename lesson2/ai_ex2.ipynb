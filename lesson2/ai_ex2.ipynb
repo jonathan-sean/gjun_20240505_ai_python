{
 "cells": [
  {
   "cell_type": "code",
   "execution_count": 3,
   "metadata": {},
   "outputs": [
    {
     "name": "stdout",
     "output_type": "stream",
     "text": [
      "Hello! Python!\n"
     ]
    }
   ],
   "source": [
    "print(\"Hello! Python!\")"
   ]
  },
  {
   "cell_type": "code",
   "execution_count": 4,
   "metadata": {},
   "outputs": [
    {
     "name": "stdout",
     "output_type": "stream",
     "text": [
      "梯形 - 上底: 4.5, 下底: 8, 高: 3.5, 面積: 21.875\n"
     ]
    }
   ],
   "source": [
    "# 梯形面積=(上底+下底)x高/2\n",
    "\n",
    "t=4.5\n",
    "b=8\n",
    "h=3.5\n",
    "a=(t+b)*h/2\n",
    "print(str.format(\"梯形 - 上底: {}, 下底: {}, 高: {}, 面積: {}\", t, b, h, a))"
   ]
  }
 ],
 "metadata": {
  "kernelspec": {
   "display_name": "Python 3",
   "language": "python",
   "name": "python3"
  },
  "language_info": {
   "codemirror_mode": {
    "name": "ipython",
    "version": 3
   },
   "file_extension": ".py",
   "mimetype": "text/x-python",
   "name": "python",
   "nbconvert_exporter": "python",
   "pygments_lexer": "ipython3",
   "version": "3.11.8"
  }
 },
 "nbformat": 4,
 "nbformat_minor": 2
}
