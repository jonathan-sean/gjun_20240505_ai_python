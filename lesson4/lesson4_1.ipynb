{
 "cells": [
  {
   "cell_type": "code",
   "execution_count": 3,
   "metadata": {},
   "outputs": [
    {
     "name": "stdout",
     "output_type": "stream",
     "text": [
      "value1 的平均值是 7\n",
      "value1 的標準差是 5.94418483337567\n",
      "============================\n",
      "value1 的平均值是 7\n",
      "value1 的標準差是 1.8257418583505538\n"
     ]
    }
   ],
   "source": [
    "import statistics\n",
    "\n",
    "value1 = [0, 5, 9, 14]\n",
    "value2 = [5, 6, 8, 9]\n",
    "\n",
    "average1 = statistics.mean(value1)\n",
    "sd1 = statistics.stdev(value1)\n",
    "print(f\"value1 的平均值是 {average1}\")\n",
    "print(f\"value1 的標準差是 {sd1}\")\n",
    "\n",
    "print(\"============================\")\n",
    "average2 = statistics.mean(value2)\n",
    "sd2 = statistics.stdev(value2)\n",
    "print(f\"value2 的平均值是 {average2}\")\n",
    "print(f\"value2 的標準差是 {sd2}\")"
   ]
  },
  {
   "cell_type": "code",
   "execution_count": 5,
   "metadata": {},
   "outputs": [
    {
     "name": "stdout",
     "output_type": "stream",
     "text": [
      "n = 50\n"
     ]
    }
   ],
   "source": [
    "n = 10\n",
    "n *= 5\n",
    "\n",
    "print(f\"n = {n}\")"
   ]
  },
  {
   "cell_type": "code",
   "execution_count": 8,
   "metadata": {},
   "outputs": [
    {
     "name": "stdout",
     "output_type": "stream",
     "text": [
      "4.666 + 564.54764 + 2435.485786 = 3004.7\n"
     ]
    }
   ],
   "source": [
    "total = 0.0\n",
    "\n",
    "in1 = float(input(\"輸入數字 1: \"))\n",
    "total += in1\n",
    "in2 = float(input(\"輸入數字 2: \"))\n",
    "total += in2\n",
    "in3 = float(input(\"輸入數字 3: \"))\n",
    "total += in3\n",
    "\n",
    "print(f\"{in1} + {in2} + {in3} = {round(total, 2)}\")\n"
   ]
  }
 ],
 "metadata": {
  "kernelspec": {
   "display_name": "Python 3",
   "language": "python",
   "name": "python3"
  },
  "language_info": {
   "codemirror_mode": {
    "name": "ipython",
    "version": 3
   },
   "file_extension": ".py",
   "mimetype": "text/x-python",
   "name": "python",
   "nbconvert_exporter": "python",
   "pygments_lexer": "ipython3",
   "version": "3.10.14"
  }
 },
 "nbformat": 4,
 "nbformat_minor": 2
}
